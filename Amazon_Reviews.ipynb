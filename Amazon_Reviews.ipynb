{
 "cells": [
  {
   "cell_type": "markdown",
   "metadata": {},
   "source": [
    "# Amazon Customer Reviews (Web-Scraping)"
   ]
  },
  {
   "cell_type": "markdown",
   "metadata": {},
   "source": [
    "## Importing the Libraries"
   ]
  },
  {
   "cell_type": "code",
   "execution_count": 21,
   "metadata": {},
   "outputs": [],
   "source": [
    "from bs4 import BeautifulSoup\n",
    "import requests"
   ]
  },
  {
   "cell_type": "code",
   "execution_count": 22,
   "metadata": {},
   "outputs": [],
   "source": [
    "#base_url Changes according to the review pages\n",
    "base_url = \"https://www.amazon.in/Test-Exclusive-547/product-reviews/B078BNQ318/ref=cm_cr_arp_d_paging_btm_next_2?ie=UTF8&reviewerType=all_reviews&pageNumber={}\""
   ]
  },
  {
   "cell_type": "code",
   "execution_count": 23,
   "metadata": {},
   "outputs": [],
   "source": [
    "#Checking the page information and trying to retrive them with class names\n",
    "url = \"https://www.amazon.in/Test-Exclusive-547/product-reviews/B078BNQ318/ref=cm_cr_arp_d_paging_btm_next_2?ie=UTF8&reviewerType=all_reviews&pageNumber=2\"\n",
    "page = requests.get(url)\n",
    "page\n",
    "soup = BeautifulSoup(page.content,'html.parser')  #making a object of BeautifulSoup\n"
   ]
  },
  {
   "cell_type": "code",
   "execution_count": 38,
   "metadata": {},
   "outputs": [
    {
     "data": {
      "text/plain": [
       "12"
      ]
     },
     "execution_count": 38,
     "metadata": {},
     "output_type": "execute_result"
    }
   ],
   "source": [
    "#Retriving the Name of Customer by Inspect Method and Checking the Class\n",
    "names = soup.select('span.a-profile-name')\n",
    "len(names)     \n",
    "\n",
    "#Every review page Contains 10 reviews but here it is 12 beacuse every page contain two extra reviews (i.e, Top Positive review and Top Critical Review)"
   ]
  },
  {
   "cell_type": "code",
   "execution_count": 25,
   "metadata": {},
   "outputs": [
    {
     "data": {
      "text/plain": [
       "[<span class=\"a-profile-name\">Vikas Shah</span>,\n",
       " <span class=\"a-profile-name\">Prasad G.</span>,\n",
       " <span class=\"a-profile-name\">Vishal Baboo</span>,\n",
       " <span class=\"a-profile-name\">Himanshu Chaudhary</span>,\n",
       " <span class=\"a-profile-name\">Shivangi Sahni</span>,\n",
       " <span class=\"a-profile-name\">K Sudarshan Reddy</span>,\n",
       " <span class=\"a-profile-name\">Amazon Customer</span>,\n",
       " <span class=\"a-profile-name\">Raghul</span>,\n",
       " <span class=\"a-profile-name\">Sanjay kr gupta</span>,\n",
       " <span class=\"a-profile-name\">Pranip</span>]"
      ]
     },
     "execution_count": 25,
     "metadata": {},
     "output_type": "execute_result"
    }
   ],
   "source": [
    "# Droping the Top Positive review and Top Critical Review\n",
    "names = soup.select('span.a-profile-name')[2:] \n",
    "names"
   ]
  },
  {
   "cell_type": "code",
   "execution_count": 26,
   "metadata": {},
   "outputs": [
    {
     "data": {
      "text/plain": [
       "10"
      ]
     },
     "execution_count": 26,
     "metadata": {},
     "output_type": "execute_result"
    }
   ],
   "source": [
    "len(names)"
   ]
  },
  {
   "cell_type": "code",
   "execution_count": 27,
   "metadata": {},
   "outputs": [
    {
     "data": {
      "text/plain": [
       "[<span>best and most reliable phone at this price</span>,\n",
       " <span>Iconic but Camera could have been even better</span>,\n",
       " <span>Not as expected, Think before buy....</span>,\n",
       " <span>Camera not upto the mark.</span>,\n",
       " <span>Warranty card not received</span>,\n",
       " <span>Not a good deal for camera</span>,\n",
       " <span>Awful Amoled Screen</span>,\n",
       " <span>Two major defects on the phone and now replacing it</span>,\n",
       " <span>Not satisfied</span>,\n",
       " <span>Don't buy this device..</span>]"
      ]
     },
     "execution_count": 27,
     "metadata": {},
     "output_type": "execute_result"
    }
   ],
   "source": [
    "#Retriving the Title \n",
    "titles = soup.select('a.review-title span')\n",
    "titles"
   ]
  },
  {
   "cell_type": "code",
   "execution_count": 28,
   "metadata": {},
   "outputs": [
    {
     "data": {
      "text/plain": [
       "[<span class=\"a-icon-alt\">5.0 out of 5 stars</span>,\n",
       " <span class=\"a-icon-alt\">5.0 out of 5 stars</span>,\n",
       " <span class=\"a-icon-alt\">2.0 out of 5 stars</span>,\n",
       " <span class=\"a-icon-alt\">2.0 out of 5 stars</span>,\n",
       " <span class=\"a-icon-alt\">1.0 out of 5 stars</span>,\n",
       " <span class=\"a-icon-alt\">1.0 out of 5 stars</span>,\n",
       " <span class=\"a-icon-alt\">1.0 out of 5 stars</span>,\n",
       " <span class=\"a-icon-alt\">1.0 out of 5 stars</span>,\n",
       " <span class=\"a-icon-alt\">1.0 out of 5 stars</span>,\n",
       " <span class=\"a-icon-alt\">1.0 out of 5 stars</span>]"
      ]
     },
     "execution_count": 28,
     "metadata": {},
     "output_type": "execute_result"
    }
   ],
   "source": [
    "#Retriving the Star vote\n",
    "stars = soup.select('span.a-icon-alt')[3:]\n",
    "stars"
   ]
  },
  {
   "cell_type": "code",
   "execution_count": 29,
   "metadata": {},
   "outputs": [
    {
     "data": {
      "text/plain": [
       "'OnePlus 8 (Glacial Green 6GB RAM+128GB Storage)'"
      ]
     },
     "execution_count": 29,
     "metadata": {},
     "output_type": "execute_result"
    }
   ],
   "source": [
    "#Retriving the Product name\n",
    "product = soup.select('a.a-link-normal')[0].get_text()\n",
    "product"
   ]
  },
  {
   "cell_type": "code",
   "execution_count": 30,
   "metadata": {},
   "outputs": [
    {
     "data": {
      "text/plain": [
       "[<span class=\"a-size-base a-color-secondary review-date\" data-hook=\"review-date\">Reviewed in India on 21 June 2020</span>,\n",
       " <span class=\"a-size-base a-color-secondary review-date\" data-hook=\"review-date\">Reviewed in India on 17 June 2020</span>,\n",
       " <span class=\"a-size-base a-color-secondary review-date\" data-hook=\"review-date\">Reviewed in India on 17 June 2020</span>,\n",
       " <span class=\"a-size-base a-color-secondary review-date\" data-hook=\"review-date\">Reviewed in India on 19 June 2020</span>,\n",
       " <span class=\"a-size-base a-color-secondary review-date\" data-hook=\"review-date\">Reviewed in India on 18 June 2020</span>,\n",
       " <span class=\"a-size-base a-color-secondary review-date\" data-hook=\"review-date\">Reviewed in India on 23 June 2020</span>,\n",
       " <span class=\"a-size-base a-color-secondary review-date\" data-hook=\"review-date\">Reviewed in India on 23 June 2020</span>,\n",
       " <span class=\"a-size-base a-color-secondary review-date\" data-hook=\"review-date\">Reviewed in India on 25 June 2020</span>,\n",
       " <span class=\"a-size-base a-color-secondary review-date\" data-hook=\"review-date\">Reviewed in India on 20 June 2020</span>,\n",
       " <span class=\"a-size-base a-color-secondary review-date\" data-hook=\"review-date\">Reviewed in India on 25 June 2020</span>]"
      ]
     },
     "execution_count": 30,
     "metadata": {},
     "output_type": "execute_result"
    }
   ],
   "source": [
    "#Retriving the dates\n",
    "dates = soup.select('span.review-date')[2:]\n",
    "dates"
   ]
  },
  {
   "cell_type": "code",
   "execution_count": 31,
   "metadata": {},
   "outputs": [],
   "source": [
    "#Making list to contain values for every columns\n",
    "cust_name = []\n",
    "ratings = []\n",
    "rev_title = []\n",
    "rev_date = []\n",
    "rev_text = []\n",
    "product_name = []\n",
    "\n",
    "for n in range(1,25):    #Loop for changing the pages, here range is number of pages\n",
    "    scrape_url = base_url.format(n)    #Changing the url for every page\n",
    "    res = requests.get(scrape_url)\n",
    "    \n",
    "    soup = BeautifulSoup(res.text,'lxml')\n",
    "    product = soup.select('a.a-link-normal')[0]\n",
    "    names = soup.select('span.a-profile-name')[2:]\n",
    "    titles = soup.select('a.review-title span')\n",
    "    stars = soup.select('span.a-icon-alt')[3:]\n",
    "    dates = soup.select('span.review-date')[2:]\n",
    "    text = soup.select(\"span.review-text-content span\")\n",
    "   \n",
    "    #To append each customer values as each page contains 10 reviews\n",
    "    for i in range(10):\n",
    "        product_name.append(product.get_text())\n",
    "        cust_name.append(names[i].get_text())\n",
    "        ratings.append(stars[i].get_text())\n",
    "        rev_title.append(titles[i].get_text())\n",
    "        rev_date.append(dates[i].get_text().replace(\"Reviewed in India on \",\"\"))\n",
    "        rev_text.append(text[i].get_text().strip( '\\n' ))"
   ]
  },
  {
   "cell_type": "code",
   "execution_count": 32,
   "metadata": {},
   "outputs": [],
   "source": [
    "#Forming a Data Frame\n",
    "import pandas as pd\n",
    "df = pd.DataFrame()\n",
    "df['Product'] = product_name\n",
    "df['Date'] = rev_date\n",
    "df['Customer Name'] = cust_name\n",
    "df['Ratings'] = ratings\n",
    "df['Title'] = rev_title\n",
    "df['Reviews'] =  rev_text"
   ]
  },
  {
   "cell_type": "code",
   "execution_count": 33,
   "metadata": {},
   "outputs": [],
   "source": [
    "#Saving the DataFrame to the local machine\n",
    "df.to_csv('amazon_oneplus8_Reviews.csv')"
   ]
  },
  {
   "cell_type": "code",
   "execution_count": 34,
   "metadata": {},
   "outputs": [
    {
     "name": "stdout",
     "output_type": "stream",
     "text": [
      "<class 'pandas.core.frame.DataFrame'>\n",
      "RangeIndex: 240 entries, 0 to 239\n",
      "Data columns (total 6 columns):\n",
      " #   Column         Non-Null Count  Dtype \n",
      "---  ------         --------------  ----- \n",
      " 0   Product        240 non-null    object\n",
      " 1   Date           240 non-null    object\n",
      " 2   Customer Name  240 non-null    object\n",
      " 3   Ratings        240 non-null    object\n",
      " 4   Title          240 non-null    object\n",
      " 5   Reviews        240 non-null    object\n",
      "dtypes: object(6)\n",
      "memory usage: 11.4+ KB\n"
     ]
    }
   ],
   "source": [
    "df.info()"
   ]
  },
  {
   "cell_type": "code",
   "execution_count": 35,
   "metadata": {},
   "outputs": [
    {
     "data": {
      "text/html": [
       "<div>\n",
       "<style scoped>\n",
       "    .dataframe tbody tr th:only-of-type {\n",
       "        vertical-align: middle;\n",
       "    }\n",
       "\n",
       "    .dataframe tbody tr th {\n",
       "        vertical-align: top;\n",
       "    }\n",
       "\n",
       "    .dataframe thead th {\n",
       "        text-align: right;\n",
       "    }\n",
       "</style>\n",
       "<table border=\"1\" class=\"dataframe\">\n",
       "  <thead>\n",
       "    <tr style=\"text-align: right;\">\n",
       "      <th></th>\n",
       "      <th>Product</th>\n",
       "      <th>Date</th>\n",
       "      <th>Customer Name</th>\n",
       "      <th>Ratings</th>\n",
       "      <th>Title</th>\n",
       "      <th>Reviews</th>\n",
       "    </tr>\n",
       "  </thead>\n",
       "  <tbody>\n",
       "    <tr>\n",
       "      <th>204</th>\n",
       "      <td>OnePlus 8 (Glacial Green 6GB RAM+128GB Storage)</td>\n",
       "      <td>20 August 2020</td>\n",
       "      <td>Nitin</td>\n",
       "      <td>5.0 out of 5 stars</td>\n",
       "      <td>Beast in the class😀</td>\n",
       "      <td>First time purchased OP product after so muc...</td>\n",
       "    </tr>\n",
       "    <tr>\n",
       "      <th>219</th>\n",
       "      <td>OnePlus 8 (Glacial Green 6GB RAM+128GB Storage)</td>\n",
       "      <td>5 September 2020</td>\n",
       "      <td>Siddharth Kumar</td>\n",
       "      <td>5.0 out of 5 stars</td>\n",
       "      <td>Flawless Performance and Camera compromised !</td>\n",
       "      <td>Top notch performance and no lag what so eve...</td>\n",
       "    </tr>\n",
       "    <tr>\n",
       "      <th>21</th>\n",
       "      <td>OnePlus 8 (Glacial Green 6GB RAM+128GB Storage)</td>\n",
       "      <td>16 June 2020</td>\n",
       "      <td>Syril Thomas</td>\n",
       "      <td>5.0 out of 5 stars</td>\n",
       "      <td>Fastest delivery with most awaited phone of th...</td>\n",
       "      <td>Amazing product, delivered next day and well...</td>\n",
       "    </tr>\n",
       "    <tr>\n",
       "      <th>220</th>\n",
       "      <td>OnePlus 8 (Glacial Green 6GB RAM+128GB Storage)</td>\n",
       "      <td>19 September 2020</td>\n",
       "      <td>Anurag Tiwari</td>\n",
       "      <td>5.0 out of 5 stars</td>\n",
       "      <td>Never settle</td>\n",
       "      <td>Although it cost 40k plus amount , but in al...</td>\n",
       "    </tr>\n",
       "    <tr>\n",
       "      <th>221</th>\n",
       "      <td>OnePlus 8 (Glacial Green 6GB RAM+128GB Storage)</td>\n",
       "      <td>7 August 2020</td>\n",
       "      <td>biswapriya d.</td>\n",
       "      <td>5.0 out of 5 stars</td>\n",
       "      <td>Camera and Display and Performance takes your ...</td>\n",
       "      <td>Using an One Plus Product for the first time...</td>\n",
       "    </tr>\n",
       "    <tr>\n",
       "      <th>169</th>\n",
       "      <td>OnePlus 8 (Glacial Green 6GB RAM+128GB Storage)</td>\n",
       "      <td>3 July 2020</td>\n",
       "      <td>Manisai</td>\n",
       "      <td>3.0 out of 5 stars</td>\n",
       "      <td>I feel crazy😉</td>\n",
       "      <td>I am new to this after a6000plus.Touch: ins...</td>\n",
       "    </tr>\n",
       "    <tr>\n",
       "      <th>205</th>\n",
       "      <td>OnePlus 8 (Glacial Green 6GB RAM+128GB Storage)</td>\n",
       "      <td>28 June 2020</td>\n",
       "      <td>Abhishek Upadhayay</td>\n",
       "      <td>4.0 out of 5 stars</td>\n",
       "      <td>Best phone in the range of 40k</td>\n",
       "      <td>Delivery - time &amp; packaging both are very go...</td>\n",
       "    </tr>\n",
       "    <tr>\n",
       "      <th>161</th>\n",
       "      <td>OnePlus 8 (Glacial Green 6GB RAM+128GB Storage)</td>\n",
       "      <td>24 June 2020</td>\n",
       "      <td>Pragya kumar</td>\n",
       "      <td>5.0 out of 5 stars</td>\n",
       "      <td>Best of all</td>\n",
       "      <td>This is the first time i joined oneplus 8 fa...</td>\n",
       "    </tr>\n",
       "    <tr>\n",
       "      <th>116</th>\n",
       "      <td>OnePlus 8 (Glacial Green 6GB RAM+128GB Storage)</td>\n",
       "      <td>11 September 2020</td>\n",
       "      <td>shubham bains</td>\n",
       "      <td>4.0 out of 5 stars</td>\n",
       "      <td>display issue</td>\n",
       "      <td>the phone is osm no problem in day to day li...</td>\n",
       "    </tr>\n",
       "    <tr>\n",
       "      <th>65</th>\n",
       "      <td>OnePlus 8 (Glacial Green 6GB RAM+128GB Storage)</td>\n",
       "      <td>28 July 2020</td>\n",
       "      <td>Sagnik Sarkar</td>\n",
       "      <td>5.0 out of 5 stars</td>\n",
       "      <td>The truth about OnePlus 8</td>\n",
       "      <td>I have been using this device for more than ...</td>\n",
       "    </tr>\n",
       "  </tbody>\n",
       "</table>\n",
       "</div>"
      ],
      "text/plain": [
       "                                             Product               Date  \\\n",
       "204  OnePlus 8 (Glacial Green 6GB RAM+128GB Storage)     20 August 2020   \n",
       "219  OnePlus 8 (Glacial Green 6GB RAM+128GB Storage)   5 September 2020   \n",
       "21   OnePlus 8 (Glacial Green 6GB RAM+128GB Storage)       16 June 2020   \n",
       "220  OnePlus 8 (Glacial Green 6GB RAM+128GB Storage)  19 September 2020   \n",
       "221  OnePlus 8 (Glacial Green 6GB RAM+128GB Storage)      7 August 2020   \n",
       "169  OnePlus 8 (Glacial Green 6GB RAM+128GB Storage)        3 July 2020   \n",
       "205  OnePlus 8 (Glacial Green 6GB RAM+128GB Storage)       28 June 2020   \n",
       "161  OnePlus 8 (Glacial Green 6GB RAM+128GB Storage)       24 June 2020   \n",
       "116  OnePlus 8 (Glacial Green 6GB RAM+128GB Storage)  11 September 2020   \n",
       "65   OnePlus 8 (Glacial Green 6GB RAM+128GB Storage)       28 July 2020   \n",
       "\n",
       "          Customer Name             Ratings  \\\n",
       "204               Nitin  5.0 out of 5 stars   \n",
       "219     Siddharth Kumar  5.0 out of 5 stars   \n",
       "21         Syril Thomas  5.0 out of 5 stars   \n",
       "220      Anurag Tiwari   5.0 out of 5 stars   \n",
       "221       biswapriya d.  5.0 out of 5 stars   \n",
       "169             Manisai  3.0 out of 5 stars   \n",
       "205  Abhishek Upadhayay  4.0 out of 5 stars   \n",
       "161        Pragya kumar  5.0 out of 5 stars   \n",
       "116       shubham bains  4.0 out of 5 stars   \n",
       "65        Sagnik Sarkar  5.0 out of 5 stars   \n",
       "\n",
       "                                                 Title  \\\n",
       "204                                Beast in the class😀   \n",
       "219      Flawless Performance and Camera compromised !   \n",
       "21   Fastest delivery with most awaited phone of th...   \n",
       "220                                       Never settle   \n",
       "221  Camera and Display and Performance takes your ...   \n",
       "169                                      I feel crazy😉   \n",
       "205                     Best phone in the range of 40k   \n",
       "161                                        Best of all   \n",
       "116                                      display issue   \n",
       "65                           The truth about OnePlus 8   \n",
       "\n",
       "                                               Reviews  \n",
       "204    First time purchased OP product after so muc...  \n",
       "219    Top notch performance and no lag what so eve...  \n",
       "21     Amazing product, delivered next day and well...  \n",
       "220    Although it cost 40k plus amount , but in al...  \n",
       "221    Using an One Plus Product for the first time...  \n",
       "169     I am new to this after a6000plus.Touch: ins...  \n",
       "205    Delivery - time & packaging both are very go...  \n",
       "161    This is the first time i joined oneplus 8 fa...  \n",
       "116    the phone is osm no problem in day to day li...  \n",
       "65     I have been using this device for more than ...  "
      ]
     },
     "execution_count": 35,
     "metadata": {},
     "output_type": "execute_result"
    }
   ],
   "source": [
    "df.sample(10)"
   ]
  },
  {
   "cell_type": "code",
   "execution_count": 36,
   "metadata": {},
   "outputs": [
    {
     "data": {
      "text/plain": [
       "\"  Great phone!Gaming performance is so great, device don't get heat up at all even at high settings!I played PUBG Mobile and details it provides were so exciting and make it feel real. Shadows of tree,stones, mud, etc. If you have small hands don't buy it for gaming, don't feel comfortable with small hands.Camera is good, can't say it is awesome!Battery life is great too, charge too fast!UI is as expected stock android, some pre-installed third party apps were also installed, you can uninstall all of them except Netflix.The back cover they provide is loose and cheap. Have to buy a new better one!Over all a great phone!Cheers! :)\""
      ]
     },
     "execution_count": 36,
     "metadata": {},
     "output_type": "execute_result"
    }
   ],
   "source": [
    "df['Reviews'][2]"
   ]
  },
  {
   "cell_type": "code",
   "execution_count": null,
   "metadata": {},
   "outputs": [],
   "source": []
  }
 ],
 "metadata": {
  "kernelspec": {
   "display_name": "Python 3",
   "language": "python",
   "name": "python3"
  },
  "language_info": {
   "codemirror_mode": {
    "name": "ipython",
    "version": 3
   },
   "file_extension": ".py",
   "mimetype": "text/x-python",
   "name": "python",
   "nbconvert_exporter": "python",
   "pygments_lexer": "ipython3",
   "version": "3.7.7"
  }
 },
 "nbformat": 4,
 "nbformat_minor": 4
}
