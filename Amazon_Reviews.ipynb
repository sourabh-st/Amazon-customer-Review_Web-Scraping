{
 "cells": [
  {
   "cell_type": "markdown",
   "metadata": {},
   "source": [
    "# Amazon Customer Reviews (Web-Scraping)"
   ]
  },
  {
   "cell_type": "markdown",
   "metadata": {},
   "source": [
    "## Importing the Libraries"
   ]
  },
  {
   "cell_type": "code",
   "execution_count": 1,
   "metadata": {},
   "outputs": [],
   "source": [
    "from bs4 import BeautifulSoup\n",
    "import requests"
   ]
  },
  {
   "cell_type": "code",
   "execution_count": 2,
   "metadata": {},
   "outputs": [],
   "source": [
    "#base_url Changes according to the review pages\n",
    "base_url = \"https://www.amazon.in/Test-Exclusive-547/product-reviews/B078BNQ318/ref=cm_cr_arp_d_paging_btm_next_2?ie=UTF8&reviewerType=all_reviews&pageNumber={}\""
   ]
  },
  {
   "cell_type": "code",
   "execution_count": 3,
   "metadata": {},
   "outputs": [],
   "source": [
    "#Checking the page information and trying to retrive them with class names\n",
    "url = \"https://www.amazon.in/Test-Exclusive-547/product-reviews/B078BNQ318/ref=cm_cr_arp_d_paging_btm_next_2?ie=UTF8&reviewerType=all_reviews&pageNumber=2\"\n",
    "page = requests.get(url)\n",
    "page\n",
    "soup = BeautifulSoup(page.content,'html.parser')  #making a object of BeautifulSoup\n"
   ]
  },
  {
   "cell_type": "code",
   "execution_count": 4,
   "metadata": {},
   "outputs": [
    {
     "data": {
      "text/plain": [
       "12"
      ]
     },
     "execution_count": 4,
     "metadata": {},
     "output_type": "execute_result"
    }
   ],
   "source": [
    "#Retriving the Name of Customer by Inspect Method and Checking the Class\n",
    "names = soup.select('span.a-profile-name')\n",
    "len(names)     \n",
    "\n",
    "#Every review page Contains 10 reviews but here it is 12 beacuse every page contain two extra reviews (i.e, Top Positive review and Top Critical Review)"
   ]
  },
  {
   "cell_type": "code",
   "execution_count": 5,
   "metadata": {},
   "outputs": [
    {
     "data": {
      "text/plain": [
       "[<span class=\"a-profile-name\">Vikas Shah</span>,\n",
       " <span class=\"a-profile-name\">Prasad G.</span>,\n",
       " <span class=\"a-profile-name\">Vishal Baboo</span>,\n",
       " <span class=\"a-profile-name\">Himanshu Chaudhary</span>,\n",
       " <span class=\"a-profile-name\">Shivangi Sahni</span>,\n",
       " <span class=\"a-profile-name\">K Sudarshan Reddy</span>,\n",
       " <span class=\"a-profile-name\">Amazon Customer</span>,\n",
       " <span class=\"a-profile-name\">Raghul</span>,\n",
       " <span class=\"a-profile-name\">Sanjay kr gupta</span>,\n",
       " <span class=\"a-profile-name\">Pranip</span>]"
      ]
     },
     "execution_count": 5,
     "metadata": {},
     "output_type": "execute_result"
    }
   ],
   "source": [
    "# Droping the Top Positive review and Top Critical Review\n",
    "names = soup.select('span.a-profile-name')[2:] \n",
    "names"
   ]
  },
  {
   "cell_type": "code",
   "execution_count": 6,
   "metadata": {},
   "outputs": [
    {
     "data": {
      "text/plain": [
       "10"
      ]
     },
     "execution_count": 6,
     "metadata": {},
     "output_type": "execute_result"
    }
   ],
   "source": [
    "len(names)"
   ]
  },
  {
   "cell_type": "code",
   "execution_count": 7,
   "metadata": {},
   "outputs": [
    {
     "data": {
      "text/plain": [
       "[<span>best and most reliable phone at this price</span>,\n",
       " <span>Iconic but Camera could have been even better</span>,\n",
       " <span>Not as expected, Think before buy....</span>,\n",
       " <span>Camera not upto the mark.</span>,\n",
       " <span>Warranty card not received</span>,\n",
       " <span>Not a good deal for camera</span>,\n",
       " <span>Awful Amoled Screen</span>,\n",
       " <span>Two major defects on the phone and now replacing it</span>,\n",
       " <span>Not satisfied</span>,\n",
       " <span>Don't buy this device..</span>]"
      ]
     },
     "execution_count": 7,
     "metadata": {},
     "output_type": "execute_result"
    }
   ],
   "source": [
    "#Retriving the Title \n",
    "titles = soup.select('a.review-title span')\n",
    "titles"
   ]
  },
  {
   "cell_type": "code",
   "execution_count": 8,
   "metadata": {},
   "outputs": [
    {
     "data": {
      "text/plain": [
       "[<span class=\"a-icon-alt\">5.0 out of 5 stars</span>,\n",
       " <span class=\"a-icon-alt\">5.0 out of 5 stars</span>,\n",
       " <span class=\"a-icon-alt\">2.0 out of 5 stars</span>,\n",
       " <span class=\"a-icon-alt\">2.0 out of 5 stars</span>,\n",
       " <span class=\"a-icon-alt\">1.0 out of 5 stars</span>,\n",
       " <span class=\"a-icon-alt\">1.0 out of 5 stars</span>,\n",
       " <span class=\"a-icon-alt\">1.0 out of 5 stars</span>,\n",
       " <span class=\"a-icon-alt\">1.0 out of 5 stars</span>,\n",
       " <span class=\"a-icon-alt\">1.0 out of 5 stars</span>,\n",
       " <span class=\"a-icon-alt\">1.0 out of 5 stars</span>]"
      ]
     },
     "execution_count": 8,
     "metadata": {},
     "output_type": "execute_result"
    }
   ],
   "source": [
    "#Retriving the Star vote\n",
    "stars = soup.select('span.a-icon-alt')[3:]\n",
    "stars"
   ]
  },
  {
   "cell_type": "code",
   "execution_count": 9,
   "metadata": {},
   "outputs": [
    {
     "data": {
      "text/plain": [
       "'OnePlus 8 (Glacial Green 6GB RAM+128GB Storage)'"
      ]
     },
     "execution_count": 9,
     "metadata": {},
     "output_type": "execute_result"
    }
   ],
   "source": [
    "#Retriving the Product name\n",
    "product = soup.select('a.a-link-normal')[0].get_text()\n",
    "product"
   ]
  },
  {
   "cell_type": "code",
   "execution_count": 10,
   "metadata": {},
   "outputs": [
    {
     "data": {
      "text/plain": [
       "[<span class=\"a-size-base a-color-secondary review-date\" data-hook=\"review-date\">Reviewed in India on 21 June 2020</span>,\n",
       " <span class=\"a-size-base a-color-secondary review-date\" data-hook=\"review-date\">Reviewed in India on 17 June 2020</span>,\n",
       " <span class=\"a-size-base a-color-secondary review-date\" data-hook=\"review-date\">Reviewed in India on 17 June 2020</span>,\n",
       " <span class=\"a-size-base a-color-secondary review-date\" data-hook=\"review-date\">Reviewed in India on 19 June 2020</span>,\n",
       " <span class=\"a-size-base a-color-secondary review-date\" data-hook=\"review-date\">Reviewed in India on 18 June 2020</span>,\n",
       " <span class=\"a-size-base a-color-secondary review-date\" data-hook=\"review-date\">Reviewed in India on 23 June 2020</span>,\n",
       " <span class=\"a-size-base a-color-secondary review-date\" data-hook=\"review-date\">Reviewed in India on 23 June 2020</span>,\n",
       " <span class=\"a-size-base a-color-secondary review-date\" data-hook=\"review-date\">Reviewed in India on 25 June 2020</span>,\n",
       " <span class=\"a-size-base a-color-secondary review-date\" data-hook=\"review-date\">Reviewed in India on 20 June 2020</span>,\n",
       " <span class=\"a-size-base a-color-secondary review-date\" data-hook=\"review-date\">Reviewed in India on 25 June 2020</span>]"
      ]
     },
     "execution_count": 10,
     "metadata": {},
     "output_type": "execute_result"
    }
   ],
   "source": [
    "#Retriving the dates\n",
    "dates = soup.select('span.review-date')[2:]\n",
    "dates"
   ]
  },
  {
   "cell_type": "code",
   "execution_count": 13,
   "metadata": {},
   "outputs": [],
   "source": [
    "#Making list to contain values for every columns\n",
    "cust_name = []\n",
    "ratings = []\n",
    "rev_title = []\n",
    "rev_date = []\n",
    "rev_text = []\n",
    "product_name = []\n",
    "\n",
    "for n in range(1,11):    #Loop for changing the pages, here range is number of pages\n",
    "    scrape_url = base_url.format(n)    #Changing the url for every page\n",
    "    res = requests.get(scrape_url)\n",
    "    \n",
    "    soup = BeautifulSoup(res.text,'lxml')\n",
    "    product = soup.select('a.a-link-normal')[0]\n",
    "    names = soup.select('span.a-profile-name')[2:]\n",
    "    titles = soup.select('a.review-title span')\n",
    "    stars = soup.select('span.a-icon-alt')[3:]\n",
    "    dates = soup.select('span.review-date')[2:]\n",
    "    text = soup.select(\"span.review-text-content span\")\n",
    "   \n",
    "    #To append each customer values as each page contains 10 reviews\n",
    "    for i in range(10):\n",
    "        product_name.append(product.get_text())\n",
    "        cust_name.append(names[i].get_text())\n",
    "        ratings.append(stars[i].get_text())\n",
    "        rev_title.append(titles[i].get_text())\n",
    "        rev_date.append(dates[i].get_text().replace(\"Reviewed in India on \",\"\"))\n",
    "        rev_text.append(text[i].get_text().strip( '\\n' ))"
   ]
  },
  {
   "cell_type": "code",
   "execution_count": 14,
   "metadata": {},
   "outputs": [],
   "source": [
    "#Forming a Data Frame\n",
    "import pandas as pd\n",
    "df = pd.DataFrame()\n",
    "df['Product'] = product_name\n",
    "df['Date'] = rev_date\n",
    "df['Customer Name'] = cust_name\n",
    "df['Ratings'] = ratings\n",
    "df['Title'] = rev_title\n",
    "df['Reviews'] =  rev_text"
   ]
  },
  {
   "cell_type": "code",
   "execution_count": 15,
   "metadata": {},
   "outputs": [],
   "source": [
    "#Saving the DataFrame to the local machine\n",
    "df.to_csv('amazon_oneplus8_Reviews.csv')"
   ]
  },
  {
   "cell_type": "code",
   "execution_count": 16,
   "metadata": {},
   "outputs": [
    {
     "name": "stdout",
     "output_type": "stream",
     "text": [
      "<class 'pandas.core.frame.DataFrame'>\n",
      "RangeIndex: 100 entries, 0 to 99\n",
      "Data columns (total 6 columns):\n",
      " #   Column         Non-Null Count  Dtype \n",
      "---  ------         --------------  ----- \n",
      " 0   Product        100 non-null    object\n",
      " 1   Date           100 non-null    object\n",
      " 2   Customer Name  100 non-null    object\n",
      " 3   Ratings        100 non-null    object\n",
      " 4   Title          100 non-null    object\n",
      " 5   Reviews        100 non-null    object\n",
      "dtypes: object(6)\n",
      "memory usage: 4.8+ KB\n"
     ]
    }
   ],
   "source": [
    "df.info()"
   ]
  },
  {
   "cell_type": "code",
   "execution_count": 17,
   "metadata": {},
   "outputs": [
    {
     "data": {
      "text/html": [
       "<div>\n",
       "<style scoped>\n",
       "    .dataframe tbody tr th:only-of-type {\n",
       "        vertical-align: middle;\n",
       "    }\n",
       "\n",
       "    .dataframe tbody tr th {\n",
       "        vertical-align: top;\n",
       "    }\n",
       "\n",
       "    .dataframe thead th {\n",
       "        text-align: right;\n",
       "    }\n",
       "</style>\n",
       "<table border=\"1\" class=\"dataframe\">\n",
       "  <thead>\n",
       "    <tr style=\"text-align: right;\">\n",
       "      <th></th>\n",
       "      <th>Product</th>\n",
       "      <th>Date</th>\n",
       "      <th>Customer Name</th>\n",
       "      <th>Ratings</th>\n",
       "      <th>Title</th>\n",
       "      <th>Reviews</th>\n",
       "    </tr>\n",
       "  </thead>\n",
       "  <tbody>\n",
       "    <tr>\n",
       "      <th>47</th>\n",
       "      <td>OnePlus 8 (Glacial Green 6GB RAM+128GB Storage)</td>\n",
       "      <td>7 August 2020</td>\n",
       "      <td>VRKREDDY</td>\n",
       "      <td>5.0 out of 5 stars</td>\n",
       "      <td>Very good phone</td>\n",
       "      <td>I loved it. Actually this is placed for my b...</td>\n",
       "    </tr>\n",
       "    <tr>\n",
       "      <th>26</th>\n",
       "      <td>OnePlus 8 (Glacial Green 6GB RAM+128GB Storage)</td>\n",
       "      <td>22 June 2020</td>\n",
       "      <td>Shubham</td>\n",
       "      <td>1.0 out of 5 stars</td>\n",
       "      <td>Not worth the price</td>\n",
       "      <td>Camera is mediocre. Finger print detection i...</td>\n",
       "    </tr>\n",
       "    <tr>\n",
       "      <th>31</th>\n",
       "      <td>OnePlus 8 (Glacial Green 6GB RAM+128GB Storage)</td>\n",
       "      <td>28 June 2020</td>\n",
       "      <td>Mayank Agrawal</td>\n",
       "      <td>1.0 out of 5 stars</td>\n",
       "      <td>DON'T PURCHASE</td>\n",
       "      <td>Worst phone. Don't purchase from Amazon. App...</td>\n",
       "    </tr>\n",
       "    <tr>\n",
       "      <th>81</th>\n",
       "      <td>OnePlus 8 (Glacial Green 6GB RAM+128GB Storage)</td>\n",
       "      <td>21 June 2020</td>\n",
       "      <td>Bapi Majumder</td>\n",
       "      <td>5.0 out of 5 stars</td>\n",
       "      <td>Beast Of ONEPLUS Breed...😎</td>\n",
       "      <td>A great power comes with great responsibilit...</td>\n",
       "    </tr>\n",
       "    <tr>\n",
       "      <th>4</th>\n",
       "      <td>OnePlus 8 (Glacial Green 6GB RAM+128GB Storage)</td>\n",
       "      <td>18 June 2020</td>\n",
       "      <td>Aparna Uniyal</td>\n",
       "      <td>1.0 out of 5 stars</td>\n",
       "      <td>Battery/Heating/Network issue</td>\n",
       "      <td>I have bought one plus 8 just 3 days back an...</td>\n",
       "    </tr>\n",
       "    <tr>\n",
       "      <th>23</th>\n",
       "      <td>OnePlus 8 (Glacial Green 6GB RAM+128GB Storage)</td>\n",
       "      <td>17 June 2020</td>\n",
       "      <td>Dr. Mohammed Riyaz Sayyed</td>\n",
       "      <td>5.0 out of 5 stars</td>\n",
       "      <td>Just one word for this beauty killer killer ki...</td>\n",
       "      <td>OnePlus ❤️ again u proove  that u r the only...</td>\n",
       "    </tr>\n",
       "    <tr>\n",
       "      <th>67</th>\n",
       "      <td>OnePlus 8 (Glacial Green 6GB RAM+128GB Storage)</td>\n",
       "      <td>17 August 2020</td>\n",
       "      <td>Joe Thomas</td>\n",
       "      <td>4.0 out of 5 stars</td>\n",
       "      <td>Great Phone</td>\n",
       "      <td>I was using one plus 5t since 2018. No issue...</td>\n",
       "    </tr>\n",
       "    <tr>\n",
       "      <th>32</th>\n",
       "      <td>OnePlus 8 (Glacial Green 6GB RAM+128GB Storage)</td>\n",
       "      <td>14 July 2020</td>\n",
       "      <td>Megha</td>\n",
       "      <td>1.0 out of 5 stars</td>\n",
       "      <td>Dont buy one plus products</td>\n",
       "      <td>There's always an issue with my speaker wher...</td>\n",
       "    </tr>\n",
       "    <tr>\n",
       "      <th>38</th>\n",
       "      <td>OnePlus 8 (Glacial Green 6GB RAM+128GB Storage)</td>\n",
       "      <td>27 June 2020</td>\n",
       "      <td>Sunil Sharma</td>\n",
       "      <td>1.0 out of 5 stars</td>\n",
       "      <td>Heating problem</td>\n",
       "      <td>Phone got heating issue and network issue.we...</td>\n",
       "    </tr>\n",
       "    <tr>\n",
       "      <th>63</th>\n",
       "      <td>OnePlus 8 (Glacial Green 6GB RAM+128GB Storage)</td>\n",
       "      <td>16 September 2020</td>\n",
       "      <td>Arul Chendhur</td>\n",
       "      <td>5.0 out of 5 stars</td>\n",
       "      <td>Worth the money 💰💰💰</td>\n",
       "      <td>Its the overall good phone, and i have used ...</td>\n",
       "    </tr>\n",
       "  </tbody>\n",
       "</table>\n",
       "</div>"
      ],
      "text/plain": [
       "                                            Product               Date  \\\n",
       "47  OnePlus 8 (Glacial Green 6GB RAM+128GB Storage)      7 August 2020   \n",
       "26  OnePlus 8 (Glacial Green 6GB RAM+128GB Storage)       22 June 2020   \n",
       "31  OnePlus 8 (Glacial Green 6GB RAM+128GB Storage)       28 June 2020   \n",
       "81  OnePlus 8 (Glacial Green 6GB RAM+128GB Storage)       21 June 2020   \n",
       "4   OnePlus 8 (Glacial Green 6GB RAM+128GB Storage)       18 June 2020   \n",
       "23  OnePlus 8 (Glacial Green 6GB RAM+128GB Storage)       17 June 2020   \n",
       "67  OnePlus 8 (Glacial Green 6GB RAM+128GB Storage)     17 August 2020   \n",
       "32  OnePlus 8 (Glacial Green 6GB RAM+128GB Storage)       14 July 2020   \n",
       "38  OnePlus 8 (Glacial Green 6GB RAM+128GB Storage)       27 June 2020   \n",
       "63  OnePlus 8 (Glacial Green 6GB RAM+128GB Storage)  16 September 2020   \n",
       "\n",
       "                Customer Name             Ratings  \\\n",
       "47                   VRKREDDY  5.0 out of 5 stars   \n",
       "26                    Shubham  1.0 out of 5 stars   \n",
       "31             Mayank Agrawal  1.0 out of 5 stars   \n",
       "81              Bapi Majumder  5.0 out of 5 stars   \n",
       "4               Aparna Uniyal  1.0 out of 5 stars   \n",
       "23  Dr. Mohammed Riyaz Sayyed  5.0 out of 5 stars   \n",
       "67                 Joe Thomas  4.0 out of 5 stars   \n",
       "32                      Megha  1.0 out of 5 stars   \n",
       "38               Sunil Sharma  1.0 out of 5 stars   \n",
       "63              Arul Chendhur  5.0 out of 5 stars   \n",
       "\n",
       "                                                Title  \\\n",
       "47                                    Very good phone   \n",
       "26                                Not worth the price   \n",
       "31                                     DON'T PURCHASE   \n",
       "81                         Beast Of ONEPLUS Breed...😎   \n",
       "4                       Battery/Heating/Network issue   \n",
       "23  Just one word for this beauty killer killer ki...   \n",
       "67                                        Great Phone   \n",
       "32                         Dont buy one plus products   \n",
       "38                                    Heating problem   \n",
       "63                                Worth the money 💰💰💰   \n",
       "\n",
       "                                              Reviews  \n",
       "47    I loved it. Actually this is placed for my b...  \n",
       "26    Camera is mediocre. Finger print detection i...  \n",
       "31    Worst phone. Don't purchase from Amazon. App...  \n",
       "81    A great power comes with great responsibilit...  \n",
       "4     I have bought one plus 8 just 3 days back an...  \n",
       "23    OnePlus ❤️ again u proove  that u r the only...  \n",
       "67    I was using one plus 5t since 2018. No issue...  \n",
       "32    There's always an issue with my speaker wher...  \n",
       "38    Phone got heating issue and network issue.we...  \n",
       "63    Its the overall good phone, and i have used ...  "
      ]
     },
     "execution_count": 17,
     "metadata": {},
     "output_type": "execute_result"
    }
   ],
   "source": [
    "df.sample(10)"
   ]
  },
  {
   "cell_type": "code",
   "execution_count": 18,
   "metadata": {},
   "outputs": [
    {
     "data": {
      "text/plain": [
       "\"  Great phone!Gaming performance is so great, device don't get heat up at all even at high settings!I played PUBG Mobile and details it provides were so exciting and make it feel real. Shadows of tree,stones, mud, etc. If you have small hands don't buy it for gaming, don't feel comfortable with small hands.Camera is good, can't say it is awesome!Battery life is great too, charge too fast!UI is as expected stock android, some pre-installed third party apps were also installed, you can uninstall all of them except Netflix.The back cover they provide is loose and cheap. Have to buy a new better one!Over all a great phone!Cheers! :)\""
      ]
     },
     "execution_count": 18,
     "metadata": {},
     "output_type": "execute_result"
    }
   ],
   "source": [
    "df['Reviews'][2]"
   ]
  },
  {
   "cell_type": "code",
   "execution_count": 20,
   "metadata": {},
   "outputs": [
    {
     "name": "stdout",
     "output_type": "stream",
     "text": [
      "<class 'pandas.core.frame.DataFrame'>\n",
      "RangeIndex: 790 entries, 0 to 789\n",
      "Data columns (total 7 columns):\n",
      " #   Column         Non-Null Count  Dtype \n",
      "---  ------         --------------  ----- \n",
      " 0   Unnamed: 0     790 non-null    int64 \n",
      " 1   Product        790 non-null    object\n",
      " 2   Date           790 non-null    object\n",
      " 3   Customer Name  790 non-null    object\n",
      " 4   Ratings        790 non-null    object\n",
      " 5   Title          790 non-null    object\n",
      " 6   Reviews        790 non-null    object\n",
      "dtypes: int64(1), object(6)\n",
      "memory usage: 43.3+ KB\n"
     ]
    }
   ],
   "source": [
    "df1 = pd.read_csv('amazon_Customer_Reviews.csv')\n",
    "df1.info()"
   ]
  },
  {
   "cell_type": "code",
   "execution_count": 21,
   "metadata": {},
   "outputs": [
    {
     "data": {
      "text/html": [
       "<div>\n",
       "<style scoped>\n",
       "    .dataframe tbody tr th:only-of-type {\n",
       "        vertical-align: middle;\n",
       "    }\n",
       "\n",
       "    .dataframe tbody tr th {\n",
       "        vertical-align: top;\n",
       "    }\n",
       "\n",
       "    .dataframe thead th {\n",
       "        text-align: right;\n",
       "    }\n",
       "</style>\n",
       "<table border=\"1\" class=\"dataframe\">\n",
       "  <thead>\n",
       "    <tr style=\"text-align: right;\">\n",
       "      <th></th>\n",
       "      <th>Unnamed: 0</th>\n",
       "      <th>Product</th>\n",
       "      <th>Date</th>\n",
       "      <th>Customer Name</th>\n",
       "      <th>Ratings</th>\n",
       "      <th>Title</th>\n",
       "      <th>Reviews</th>\n",
       "    </tr>\n",
       "  </thead>\n",
       "  <tbody>\n",
       "    <tr>\n",
       "      <th>0</th>\n",
       "      <td>0</td>\n",
       "      <td>Apple iPhone XR (128GB) - Black</td>\n",
       "      <td>12 December 2018</td>\n",
       "      <td>Sameer Patil</td>\n",
       "      <td>3.0 out of 5 stars</td>\n",
       "      <td>Which iPhone you should Purchase ? iPhone 8, X...</td>\n",
       "      <td>NOTE:@ This is detailed comparison between i...</td>\n",
       "    </tr>\n",
       "    <tr>\n",
       "      <th>1</th>\n",
       "      <td>1</td>\n",
       "      <td>Apple iPhone XR (128GB) - Black</td>\n",
       "      <td>17 November 2018</td>\n",
       "      <td>Amazon Customer</td>\n",
       "      <td>1.0 out of 5 stars</td>\n",
       "      <td>Don't buy iPhone xr from Amazon.</td>\n",
       "      <td>Very bad experience with this iPhone xr phon...</td>\n",
       "    </tr>\n",
       "    <tr>\n",
       "      <th>2</th>\n",
       "      <td>2</td>\n",
       "      <td>Apple iPhone XR (128GB) - Black</td>\n",
       "      <td>27 January 2019</td>\n",
       "      <td>A</td>\n",
       "      <td>5.0 out of 5 stars</td>\n",
       "      <td>Happy with the purchase</td>\n",
       "      <td>Amazing phone with amazing camera coming fro...</td>\n",
       "    </tr>\n",
       "    <tr>\n",
       "      <th>3</th>\n",
       "      <td>3</td>\n",
       "      <td>Apple iPhone XR (128GB) - Black</td>\n",
       "      <td>2 May 2019</td>\n",
       "      <td>Shubham Dutta</td>\n",
       "      <td>1.0 out of 5 stars</td>\n",
       "      <td>Amazon is not an apple authorised reseller. Pl...</td>\n",
       "      <td>So I got the iPhone XR just today. The produ...</td>\n",
       "    </tr>\n",
       "    <tr>\n",
       "      <th>4</th>\n",
       "      <td>4</td>\n",
       "      <td>Apple iPhone XR (128GB) - Black</td>\n",
       "      <td>24 May 2019</td>\n",
       "      <td>Nepuni Lokho</td>\n",
       "      <td>5.0 out of 5 stars</td>\n",
       "      <td>Excellent Battery life and buttery smooth UI</td>\n",
       "      <td>I've been an android user all my life until ...</td>\n",
       "    </tr>\n",
       "  </tbody>\n",
       "</table>\n",
       "</div>"
      ],
      "text/plain": [
       "   Unnamed: 0                          Product              Date  \\\n",
       "0           0  Apple iPhone XR (128GB) - Black  12 December 2018   \n",
       "1           1  Apple iPhone XR (128GB) - Black  17 November 2018   \n",
       "2           2  Apple iPhone XR (128GB) - Black   27 January 2019   \n",
       "3           3  Apple iPhone XR (128GB) - Black        2 May 2019   \n",
       "4           4  Apple iPhone XR (128GB) - Black       24 May 2019   \n",
       "\n",
       "     Customer Name             Ratings  \\\n",
       "0     Sameer Patil  3.0 out of 5 stars   \n",
       "1  Amazon Customer  1.0 out of 5 stars   \n",
       "2                A  5.0 out of 5 stars   \n",
       "3    Shubham Dutta  1.0 out of 5 stars   \n",
       "4     Nepuni Lokho  5.0 out of 5 stars   \n",
       "\n",
       "                                               Title  \\\n",
       "0  Which iPhone you should Purchase ? iPhone 8, X...   \n",
       "1                   Don't buy iPhone xr from Amazon.   \n",
       "2                            Happy with the purchase   \n",
       "3  Amazon is not an apple authorised reseller. Pl...   \n",
       "4       Excellent Battery life and buttery smooth UI   \n",
       "\n",
       "                                             Reviews  \n",
       "0    NOTE:@ This is detailed comparison between i...  \n",
       "1    Very bad experience with this iPhone xr phon...  \n",
       "2    Amazing phone with amazing camera coming fro...  \n",
       "3    So I got the iPhone XR just today. The produ...  \n",
       "4    I've been an android user all my life until ...  "
      ]
     },
     "execution_count": 21,
     "metadata": {},
     "output_type": "execute_result"
    }
   ],
   "source": [
    "df1.head()"
   ]
  },
  {
   "cell_type": "code",
   "execution_count": 22,
   "metadata": {},
   "outputs": [
    {
     "name": "stdout",
     "output_type": "stream",
     "text": [
      "<class 'pandas.core.frame.DataFrame'>\n",
      "RangeIndex: 100 entries, 0 to 99\n",
      "Data columns (total 7 columns):\n",
      " #   Column         Non-Null Count  Dtype \n",
      "---  ------         --------------  ----- \n",
      " 0   Unnamed: 0     100 non-null    int64 \n",
      " 1   Product        100 non-null    object\n",
      " 2   Date           100 non-null    object\n",
      " 3   Customer Name  100 non-null    object\n",
      " 4   Ratings        100 non-null    object\n",
      " 5   Title          100 non-null    object\n",
      " 6   Reviews        100 non-null    object\n",
      "dtypes: int64(1), object(6)\n",
      "memory usage: 5.6+ KB\n"
     ]
    }
   ],
   "source": [
    "df2 = pd.read_csv(\"amazon_Samsung Galaxy Note 20 Ultra 5G_Reviews.csv\")\n",
    "df2.info()"
   ]
  },
  {
   "cell_type": "code",
   "execution_count": 23,
   "metadata": {},
   "outputs": [],
   "source": [
    "df1 = df1.append(df2, ignore_index=True, sort=False)"
   ]
  },
  {
   "cell_type": "code",
   "execution_count": 24,
   "metadata": {},
   "outputs": [
    {
     "name": "stdout",
     "output_type": "stream",
     "text": [
      "<class 'pandas.core.frame.DataFrame'>\n",
      "RangeIndex: 890 entries, 0 to 889\n",
      "Data columns (total 7 columns):\n",
      " #   Column         Non-Null Count  Dtype \n",
      "---  ------         --------------  ----- \n",
      " 0   Unnamed: 0     890 non-null    int64 \n",
      " 1   Product        890 non-null    object\n",
      " 2   Date           890 non-null    object\n",
      " 3   Customer Name  890 non-null    object\n",
      " 4   Ratings        890 non-null    object\n",
      " 5   Title          890 non-null    object\n",
      " 6   Reviews        890 non-null    object\n",
      "dtypes: int64(1), object(6)\n",
      "memory usage: 48.8+ KB\n"
     ]
    }
   ],
   "source": [
    "df1.info()"
   ]
  },
  {
   "cell_type": "code",
   "execution_count": 25,
   "metadata": {},
   "outputs": [
    {
     "data": {
      "text/html": [
       "<div>\n",
       "<style scoped>\n",
       "    .dataframe tbody tr th:only-of-type {\n",
       "        vertical-align: middle;\n",
       "    }\n",
       "\n",
       "    .dataframe tbody tr th {\n",
       "        vertical-align: top;\n",
       "    }\n",
       "\n",
       "    .dataframe thead th {\n",
       "        text-align: right;\n",
       "    }\n",
       "</style>\n",
       "<table border=\"1\" class=\"dataframe\">\n",
       "  <thead>\n",
       "    <tr style=\"text-align: right;\">\n",
       "      <th></th>\n",
       "      <th>Unnamed: 0</th>\n",
       "      <th>Product</th>\n",
       "      <th>Date</th>\n",
       "      <th>Customer Name</th>\n",
       "      <th>Ratings</th>\n",
       "      <th>Title</th>\n",
       "      <th>Reviews</th>\n",
       "    </tr>\n",
       "  </thead>\n",
       "  <tbody>\n",
       "    <tr>\n",
       "      <th>0</th>\n",
       "      <td>0</td>\n",
       "      <td>Apple iPhone XR (128GB) - Black</td>\n",
       "      <td>12 December 2018</td>\n",
       "      <td>Sameer Patil</td>\n",
       "      <td>3.0 out of 5 stars</td>\n",
       "      <td>Which iPhone you should Purchase ? iPhone 8, X...</td>\n",
       "      <td>NOTE:@ This is detailed comparison between i...</td>\n",
       "    </tr>\n",
       "    <tr>\n",
       "      <th>1</th>\n",
       "      <td>1</td>\n",
       "      <td>Apple iPhone XR (128GB) - Black</td>\n",
       "      <td>17 November 2018</td>\n",
       "      <td>Amazon Customer</td>\n",
       "      <td>1.0 out of 5 stars</td>\n",
       "      <td>Don't buy iPhone xr from Amazon.</td>\n",
       "      <td>Very bad experience with this iPhone xr phon...</td>\n",
       "    </tr>\n",
       "    <tr>\n",
       "      <th>2</th>\n",
       "      <td>2</td>\n",
       "      <td>Apple iPhone XR (128GB) - Black</td>\n",
       "      <td>27 January 2019</td>\n",
       "      <td>A</td>\n",
       "      <td>5.0 out of 5 stars</td>\n",
       "      <td>Happy with the purchase</td>\n",
       "      <td>Amazing phone with amazing camera coming fro...</td>\n",
       "    </tr>\n",
       "    <tr>\n",
       "      <th>3</th>\n",
       "      <td>3</td>\n",
       "      <td>Apple iPhone XR (128GB) - Black</td>\n",
       "      <td>2 May 2019</td>\n",
       "      <td>Shubham Dutta</td>\n",
       "      <td>1.0 out of 5 stars</td>\n",
       "      <td>Amazon is not an apple authorised reseller. Pl...</td>\n",
       "      <td>So I got the iPhone XR just today. The produ...</td>\n",
       "    </tr>\n",
       "    <tr>\n",
       "      <th>4</th>\n",
       "      <td>4</td>\n",
       "      <td>Apple iPhone XR (128GB) - Black</td>\n",
       "      <td>24 May 2019</td>\n",
       "      <td>Nepuni Lokho</td>\n",
       "      <td>5.0 out of 5 stars</td>\n",
       "      <td>Excellent Battery life and buttery smooth UI</td>\n",
       "      <td>I've been an android user all my life until ...</td>\n",
       "    </tr>\n",
       "  </tbody>\n",
       "</table>\n",
       "</div>"
      ],
      "text/plain": [
       "   Unnamed: 0                          Product              Date  \\\n",
       "0           0  Apple iPhone XR (128GB) - Black  12 December 2018   \n",
       "1           1  Apple iPhone XR (128GB) - Black  17 November 2018   \n",
       "2           2  Apple iPhone XR (128GB) - Black   27 January 2019   \n",
       "3           3  Apple iPhone XR (128GB) - Black        2 May 2019   \n",
       "4           4  Apple iPhone XR (128GB) - Black       24 May 2019   \n",
       "\n",
       "     Customer Name             Ratings  \\\n",
       "0     Sameer Patil  3.0 out of 5 stars   \n",
       "1  Amazon Customer  1.0 out of 5 stars   \n",
       "2                A  5.0 out of 5 stars   \n",
       "3    Shubham Dutta  1.0 out of 5 stars   \n",
       "4     Nepuni Lokho  5.0 out of 5 stars   \n",
       "\n",
       "                                               Title  \\\n",
       "0  Which iPhone you should Purchase ? iPhone 8, X...   \n",
       "1                   Don't buy iPhone xr from Amazon.   \n",
       "2                            Happy with the purchase   \n",
       "3  Amazon is not an apple authorised reseller. Pl...   \n",
       "4       Excellent Battery life and buttery smooth UI   \n",
       "\n",
       "                                             Reviews  \n",
       "0    NOTE:@ This is detailed comparison between i...  \n",
       "1    Very bad experience with this iPhone xr phon...  \n",
       "2    Amazing phone with amazing camera coming fro...  \n",
       "3    So I got the iPhone XR just today. The produ...  \n",
       "4    I've been an android user all my life until ...  "
      ]
     },
     "execution_count": 25,
     "metadata": {},
     "output_type": "execute_result"
    }
   ],
   "source": [
    "df1.head()"
   ]
  },
  {
   "cell_type": "code",
   "execution_count": 26,
   "metadata": {},
   "outputs": [],
   "source": [
    "df1.drop('Unnamed: 0',axis=1,inplace=True)"
   ]
  },
  {
   "cell_type": "code",
   "execution_count": 27,
   "metadata": {},
   "outputs": [
    {
     "data": {
      "text/html": [
       "<div>\n",
       "<style scoped>\n",
       "    .dataframe tbody tr th:only-of-type {\n",
       "        vertical-align: middle;\n",
       "    }\n",
       "\n",
       "    .dataframe tbody tr th {\n",
       "        vertical-align: top;\n",
       "    }\n",
       "\n",
       "    .dataframe thead th {\n",
       "        text-align: right;\n",
       "    }\n",
       "</style>\n",
       "<table border=\"1\" class=\"dataframe\">\n",
       "  <thead>\n",
       "    <tr style=\"text-align: right;\">\n",
       "      <th></th>\n",
       "      <th>Product</th>\n",
       "      <th>Date</th>\n",
       "      <th>Customer Name</th>\n",
       "      <th>Ratings</th>\n",
       "      <th>Title</th>\n",
       "      <th>Reviews</th>\n",
       "    </tr>\n",
       "  </thead>\n",
       "  <tbody>\n",
       "    <tr>\n",
       "      <th>0</th>\n",
       "      <td>Apple iPhone XR (128GB) - Black</td>\n",
       "      <td>12 December 2018</td>\n",
       "      <td>Sameer Patil</td>\n",
       "      <td>3.0 out of 5 stars</td>\n",
       "      <td>Which iPhone you should Purchase ? iPhone 8, X...</td>\n",
       "      <td>NOTE:@ This is detailed comparison between i...</td>\n",
       "    </tr>\n",
       "    <tr>\n",
       "      <th>1</th>\n",
       "      <td>Apple iPhone XR (128GB) - Black</td>\n",
       "      <td>17 November 2018</td>\n",
       "      <td>Amazon Customer</td>\n",
       "      <td>1.0 out of 5 stars</td>\n",
       "      <td>Don't buy iPhone xr from Amazon.</td>\n",
       "      <td>Very bad experience with this iPhone xr phon...</td>\n",
       "    </tr>\n",
       "    <tr>\n",
       "      <th>2</th>\n",
       "      <td>Apple iPhone XR (128GB) - Black</td>\n",
       "      <td>27 January 2019</td>\n",
       "      <td>A</td>\n",
       "      <td>5.0 out of 5 stars</td>\n",
       "      <td>Happy with the purchase</td>\n",
       "      <td>Amazing phone with amazing camera coming fro...</td>\n",
       "    </tr>\n",
       "    <tr>\n",
       "      <th>3</th>\n",
       "      <td>Apple iPhone XR (128GB) - Black</td>\n",
       "      <td>2 May 2019</td>\n",
       "      <td>Shubham Dutta</td>\n",
       "      <td>1.0 out of 5 stars</td>\n",
       "      <td>Amazon is not an apple authorised reseller. Pl...</td>\n",
       "      <td>So I got the iPhone XR just today. The produ...</td>\n",
       "    </tr>\n",
       "    <tr>\n",
       "      <th>4</th>\n",
       "      <td>Apple iPhone XR (128GB) - Black</td>\n",
       "      <td>24 May 2019</td>\n",
       "      <td>Nepuni Lokho</td>\n",
       "      <td>5.0 out of 5 stars</td>\n",
       "      <td>Excellent Battery life and buttery smooth UI</td>\n",
       "      <td>I've been an android user all my life until ...</td>\n",
       "    </tr>\n",
       "  </tbody>\n",
       "</table>\n",
       "</div>"
      ],
      "text/plain": [
       "                           Product              Date    Customer Name  \\\n",
       "0  Apple iPhone XR (128GB) - Black  12 December 2018     Sameer Patil   \n",
       "1  Apple iPhone XR (128GB) - Black  17 November 2018  Amazon Customer   \n",
       "2  Apple iPhone XR (128GB) - Black   27 January 2019                A   \n",
       "3  Apple iPhone XR (128GB) - Black        2 May 2019    Shubham Dutta   \n",
       "4  Apple iPhone XR (128GB) - Black       24 May 2019     Nepuni Lokho   \n",
       "\n",
       "              Ratings                                              Title  \\\n",
       "0  3.0 out of 5 stars  Which iPhone you should Purchase ? iPhone 8, X...   \n",
       "1  1.0 out of 5 stars                   Don't buy iPhone xr from Amazon.   \n",
       "2  5.0 out of 5 stars                            Happy with the purchase   \n",
       "3  1.0 out of 5 stars  Amazon is not an apple authorised reseller. Pl...   \n",
       "4  5.0 out of 5 stars       Excellent Battery life and buttery smooth UI   \n",
       "\n",
       "                                             Reviews  \n",
       "0    NOTE:@ This is detailed comparison between i...  \n",
       "1    Very bad experience with this iPhone xr phon...  \n",
       "2    Amazing phone with amazing camera coming fro...  \n",
       "3    So I got the iPhone XR just today. The produ...  \n",
       "4    I've been an android user all my life until ...  "
      ]
     },
     "execution_count": 27,
     "metadata": {},
     "output_type": "execute_result"
    }
   ],
   "source": [
    "df1.head()"
   ]
  },
  {
   "cell_type": "code",
   "execution_count": null,
   "metadata": {},
   "outputs": [],
   "source": []
  }
 ],
 "metadata": {
  "kernelspec": {
   "display_name": "Python 3",
   "language": "python",
   "name": "python3"
  },
  "language_info": {
   "codemirror_mode": {
    "name": "ipython",
    "version": 3
   },
   "file_extension": ".py",
   "mimetype": "text/x-python",
   "name": "python",
   "nbconvert_exporter": "python",
   "pygments_lexer": "ipython3",
   "version": "3.7.7"
  }
 },
 "nbformat": 4,
 "nbformat_minor": 4
}
